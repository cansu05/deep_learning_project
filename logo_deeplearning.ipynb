{
  "nbformat": 4,
  "nbformat_minor": 0,
  "metadata": {
    "colab": {
      "provenance": []
    },
    "kernelspec": {
      "name": "python3",
      "display_name": "Python 3"
    },
    "language_info": {
      "name": "python"
    },
    "accelerator": "GPU",
    "gpuClass": "standard"
  },
  "cells": [
    {
      "cell_type": "code",
      "execution_count": null,
      "metadata": {
        "colab": {
          "base_uri": "https://localhost:8080/"
        },
        "id": "l2PRaV-bzsXe",
        "outputId": "47d981c2-06b4-428b-a338-304889b7e770"
      },
      "outputs": [
        {
          "output_type": "stream",
          "name": "stdout",
          "text": [
            "Wed Nov 30 11:50:57 2022       \n",
            "+-----------------------------------------------------------------------------+\n",
            "| NVIDIA-SMI 460.32.03    Driver Version: 460.32.03    CUDA Version: 11.2     |\n",
            "|-------------------------------+----------------------+----------------------+\n",
            "| GPU  Name        Persistence-M| Bus-Id        Disp.A | Volatile Uncorr. ECC |\n",
            "| Fan  Temp  Perf  Pwr:Usage/Cap|         Memory-Usage | GPU-Util  Compute M. |\n",
            "|                               |                      |               MIG M. |\n",
            "|===============================+======================+======================|\n",
            "|   0  Tesla T4            Off  | 00000000:00:04.0 Off |                    0 |\n",
            "| N/A   43C    P8     9W /  70W |      0MiB / 15109MiB |      0%      Default |\n",
            "|                               |                      |                  N/A |\n",
            "+-------------------------------+----------------------+----------------------+\n",
            "                                                                               \n",
            "+-----------------------------------------------------------------------------+\n",
            "| Processes:                                                                  |\n",
            "|  GPU   GI   CI        PID   Type   Process name                  GPU Memory |\n",
            "|        ID   ID                                                   Usage      |\n",
            "|=============================================================================|\n",
            "|  No running processes found                                                 |\n",
            "+-----------------------------------------------------------------------------+\n",
            "Mounted at /content/drive\n"
          ]
        }
      ],
      "source": [
        "gpu_info = !nvidia-smi\n",
        "gpu_info = '\\n'.join(gpu_info)\n",
        "if gpu_info.find('failed') >= 0:\n",
        "  print('Select the Runtime > \"Change runtime type\" menu to enable a GPU accelerator, ')\n",
        "  print('and then re-execute this cell.')\n",
        "else:\n",
        "  print(gpu_info)\n",
        "from google.colab import drive\n",
        "drive.mount('/content/drive')"
      ]
    },
    {
      "cell_type": "code",
      "source": [
        "# import necessary libraries\n",
        "import pandas as pd\n",
        "import numpy as np\n",
        "import cv2\n",
        "import os\n",
        "import pathlib\n",
        "import matplotlib.pyplot as plt\n",
        "from tensorflow import keras\n",
        "from keras.models import Sequential\n",
        "from keras.layers import Dense, Flatten, Conv2D, MaxPooling2D, Activation, Dropout\n",
        "from keras.optimizers import Adam\n",
        "import tensorflow as tf\n",
        "from keras.preprocessing.image import ImageDataGenerator\n",
        "from keras.regularizers import l2\n"
      ],
      "metadata": {
        "id": "9UZkJH-0z5s5"
      },
      "execution_count": null,
      "outputs": []
    },
    {
      "cell_type": "code",
      "source": [
        "# Setup the train and test directories\n",
        "train_dir = \"/content/drive/MyDrive/logo_yeni/train/\"\n",
        "test_dir = \"/content/drive/MyDrive/logo_yeni/test/\""
      ],
      "metadata": {
        "id": "pnfMVTd6z511"
      },
      "execution_count": null,
      "outputs": []
    },
    {
      "cell_type": "code",
      "source": [
        "# Create train and test data generators and rescale the data \n",
        "train_datagen = ImageDataGenerator(rescale=1/255.)\n",
        "test_datagen = ImageDataGenerator(rescale=1/255.)\n",
        "# Turn it into batches\n",
        "train_data = train_datagen.flow_from_directory(directory=train_dir,\n",
        "                                               target_size=(90, 90),\n",
        "                                               class_mode='binary',\n",
        "                                               color_mode = \"grayscale\",\n",
        "                                               batch_size=64,\n",
        "                                               seed = 42\n",
        "                                               )\n",
        "                                            \n",
        "                                            \n",
        "\n",
        "test_data = test_datagen.flow_from_directory(directory=test_dir,\n",
        "                                             target_size=(90, 90),\n",
        "                                             class_mode='binary',\n",
        "                                             color_mode = \"grayscale\",\n",
        "                                             batch_size=64,\n",
        "                                             seed = 42\n",
        "                                             )"
      ],
      "metadata": {
        "colab": {
          "base_uri": "https://localhost:8080/"
        },
        "id": "Rbvr6b0gz5-Z",
        "outputId": "fb3532ef-c477-4f5f-9c63-f02eb1b2318b"
      },
      "execution_count": null,
      "outputs": [
        {
          "output_type": "stream",
          "name": "stdout",
          "text": [
            "Found 583 images belonging to 2 classes.\n",
            "Found 425 images belonging to 2 classes.\n"
          ]
        }
      ]
    },
    {
      "cell_type": "code",
      "source": [
        "# Create the model \n",
        "model_4 = Sequential([\n",
        "  Conv2D(filters=8, \n",
        "         kernel_size=3, \n",
        "         strides=1,\n",
        "         activation='relu', \n",
        "         input_shape=(90, 90, 1)), \n",
        "  Conv2D(8, 3, activation='relu'),\n",
        "  Conv2D(8, 3, activation='relu'),\n",
        "  Flatten(),\n",
        "  Dense(64, activation='relu'),\n",
        "  Dropout(0.2, input_shape=(64,)),  \n",
        "  Dense(1, activation='sigmoid') \n",
        "])"
      ],
      "metadata": {
        "id": "SCMHo3UBHnU4"
      },
      "execution_count": null,
      "outputs": []
    },
    {
      "cell_type": "code",
      "source": [
        "# Compile the model\n",
        "model_4.compile(loss='binary_crossentropy',\n",
        "                optimizer=Adam(0.0001),\n",
        "                metrics=['accuracy'])"
      ],
      "metadata": {
        "id": "7iMzs9fv1Zqs"
      },
      "execution_count": null,
      "outputs": []
    },
    {
      "cell_type": "code",
      "source": [
        "# model save function\n",
        "#checkpoint_filepath = '/content/drive/MyDrive/logo_model_.h5'\n",
        "# checkpoint_path = \"101_classes_10_percent_data_model_checkpoint\"      \n",
        "# model_checkpoint_callback = tf.keras.callbacks.ModelCheckpoint(\n",
        "#     filepath = checkpoint_path,\n",
        "#     save_weights_only = True,\n",
        "#     monitor = 'val_accuracy',\n",
        "#     mode = 'max',\n",
        "#     save_best_only = True)"
      ],
      "metadata": {
        "id": "QAz0rAAk5GGn"
      },
      "execution_count": null,
      "outputs": []
    },
    {
      "cell_type": "code",
      "source": [
        "# Fit the model\n",
        "history_4 = model_4.fit(train_data,\n",
        "                        epochs=50, \n",
        "                        steps_per_epoch=len(train_data),\n",
        "                        validation_data=test_data,\n",
        "                        validation_steps=len(test_data),\n",
        "                        callbacks = [model_checkpoint_callback])"
      ],
      "metadata": {
        "colab": {
          "base_uri": "https://localhost:8080/"
        },
        "id": "wMlKL1ePz6Iz",
        "outputId": "8cb35068-2fc6-4ad2-adae-5f5c5892d3ae"
      },
      "execution_count": null,
      "outputs": [
        {
          "output_type": "stream",
          "name": "stdout",
          "text": [
            "Epoch 1/50\n",
            "10/10 [==============================] - 2s 215ms/step - loss: 0.0763 - accuracy: 0.9880 - val_loss: 0.1302 - val_accuracy: 0.9600\n",
            "Epoch 2/50\n",
            "10/10 [==============================] - 1s 149ms/step - loss: 0.0658 - accuracy: 0.9897 - val_loss: 0.1448 - val_accuracy: 0.9576\n",
            "Epoch 3/50\n",
            "10/10 [==============================] - 1s 152ms/step - loss: 0.0664 - accuracy: 0.9914 - val_loss: 0.1460 - val_accuracy: 0.9529\n",
            "Epoch 4/50\n",
            "10/10 [==============================] - 1s 158ms/step - loss: 0.0714 - accuracy: 0.9811 - val_loss: 0.1274 - val_accuracy: 0.9576\n",
            "Epoch 5/50\n",
            "10/10 [==============================] - 1s 146ms/step - loss: 0.0826 - accuracy: 0.9811 - val_loss: 0.1278 - val_accuracy: 0.9576\n",
            "Epoch 6/50\n",
            "10/10 [==============================] - 1s 156ms/step - loss: 0.0711 - accuracy: 0.9828 - val_loss: 0.1247 - val_accuracy: 0.9553\n",
            "Epoch 7/50\n",
            "10/10 [==============================] - 1s 157ms/step - loss: 0.0706 - accuracy: 0.9863 - val_loss: 0.1258 - val_accuracy: 0.9576\n",
            "Epoch 8/50\n",
            "10/10 [==============================] - 1s 149ms/step - loss: 0.0657 - accuracy: 0.9880 - val_loss: 0.1403 - val_accuracy: 0.9600\n",
            "Epoch 9/50\n",
            "10/10 [==============================] - 1s 152ms/step - loss: 0.0690 - accuracy: 0.9880 - val_loss: 0.1284 - val_accuracy: 0.9624\n",
            "Epoch 10/50\n",
            "10/10 [==============================] - 1s 148ms/step - loss: 0.0610 - accuracy: 0.9897 - val_loss: 0.1279 - val_accuracy: 0.9600\n",
            "Epoch 11/50\n",
            "10/10 [==============================] - 1s 150ms/step - loss: 0.0623 - accuracy: 0.9931 - val_loss: 0.1434 - val_accuracy: 0.9576\n",
            "Epoch 12/50\n",
            "10/10 [==============================] - 1s 149ms/step - loss: 0.0589 - accuracy: 0.9897 - val_loss: 0.1361 - val_accuracy: 0.9576\n",
            "Epoch 13/50\n",
            "10/10 [==============================] - 1s 151ms/step - loss: 0.0665 - accuracy: 0.9880 - val_loss: 0.1439 - val_accuracy: 0.9600\n",
            "Epoch 14/50\n",
            "10/10 [==============================] - 2s 156ms/step - loss: 0.0634 - accuracy: 0.9863 - val_loss: 0.1612 - val_accuracy: 0.9553\n",
            "Epoch 15/50\n",
            "10/10 [==============================] - 1s 150ms/step - loss: 0.0870 - accuracy: 0.9794 - val_loss: 0.1271 - val_accuracy: 0.9600\n",
            "Epoch 16/50\n",
            "10/10 [==============================] - 2s 157ms/step - loss: 0.0712 - accuracy: 0.9897 - val_loss: 0.1415 - val_accuracy: 0.9576\n",
            "Epoch 17/50\n",
            "10/10 [==============================] - 1s 150ms/step - loss: 0.0556 - accuracy: 0.9949 - val_loss: 0.1263 - val_accuracy: 0.9600\n",
            "Epoch 18/50\n",
            "10/10 [==============================] - 1s 152ms/step - loss: 0.0557 - accuracy: 0.9931 - val_loss: 0.1219 - val_accuracy: 0.9624\n",
            "Epoch 19/50\n",
            "10/10 [==============================] - 1s 153ms/step - loss: 0.0564 - accuracy: 0.9931 - val_loss: 0.1292 - val_accuracy: 0.9624\n",
            "Epoch 20/50\n",
            "10/10 [==============================] - 1s 150ms/step - loss: 0.0572 - accuracy: 0.9914 - val_loss: 0.1360 - val_accuracy: 0.9576\n",
            "Epoch 21/50\n",
            "10/10 [==============================] - 1s 150ms/step - loss: 0.0551 - accuracy: 0.9931 - val_loss: 0.1253 - val_accuracy: 0.9624\n",
            "Epoch 22/50\n",
            "10/10 [==============================] - 1s 152ms/step - loss: 0.0520 - accuracy: 0.9966 - val_loss: 0.1308 - val_accuracy: 0.9576\n",
            "Epoch 23/50\n",
            "10/10 [==============================] - 1s 147ms/step - loss: 0.0679 - accuracy: 0.9863 - val_loss: 0.1742 - val_accuracy: 0.9412\n",
            "Epoch 24/50\n",
            "10/10 [==============================] - 1s 150ms/step - loss: 0.0750 - accuracy: 0.9811 - val_loss: 0.1572 - val_accuracy: 0.9459\n",
            "Epoch 25/50\n",
            "10/10 [==============================] - 1s 151ms/step - loss: 0.0617 - accuracy: 0.9846 - val_loss: 0.1156 - val_accuracy: 0.9576\n",
            "Epoch 26/50\n",
            "10/10 [==============================] - 1s 149ms/step - loss: 0.0604 - accuracy: 0.9897 - val_loss: 0.1345 - val_accuracy: 0.9576\n",
            "Epoch 27/50\n",
            "10/10 [==============================] - 1s 152ms/step - loss: 0.0529 - accuracy: 0.9931 - val_loss: 0.1481 - val_accuracy: 0.9529\n",
            "Epoch 28/50\n",
            "10/10 [==============================] - 2s 160ms/step - loss: 0.0448 - accuracy: 0.9983 - val_loss: 0.1159 - val_accuracy: 0.9671\n",
            "Epoch 29/50\n",
            "10/10 [==============================] - 1s 161ms/step - loss: 0.0477 - accuracy: 0.9966 - val_loss: 0.1134 - val_accuracy: 0.9576\n",
            "Epoch 30/50\n",
            "10/10 [==============================] - 1s 153ms/step - loss: 0.0454 - accuracy: 0.9949 - val_loss: 0.1192 - val_accuracy: 0.9647\n",
            "Epoch 31/50\n",
            "10/10 [==============================] - 2s 165ms/step - loss: 0.0490 - accuracy: 0.9914 - val_loss: 0.1159 - val_accuracy: 0.9694\n",
            "Epoch 32/50\n",
            "10/10 [==============================] - 1s 147ms/step - loss: 0.0512 - accuracy: 0.9949 - val_loss: 0.1088 - val_accuracy: 0.9553\n",
            "Epoch 33/50\n",
            "10/10 [==============================] - 2s 212ms/step - loss: 0.0449 - accuracy: 0.9949 - val_loss: 0.1124 - val_accuracy: 0.9671\n",
            "Epoch 34/50\n",
            "10/10 [==============================] - 2s 152ms/step - loss: 0.0476 - accuracy: 0.9897 - val_loss: 0.1070 - val_accuracy: 0.9576\n",
            "Epoch 35/50\n",
            "10/10 [==============================] - 1s 152ms/step - loss: 0.0466 - accuracy: 0.9880 - val_loss: 0.1164 - val_accuracy: 0.9576\n",
            "Epoch 36/50\n",
            "10/10 [==============================] - 2s 156ms/step - loss: 0.0620 - accuracy: 0.9846 - val_loss: 0.1100 - val_accuracy: 0.9553\n",
            "Epoch 37/50\n",
            "10/10 [==============================] - 1s 150ms/step - loss: 0.0471 - accuracy: 0.9949 - val_loss: 0.1130 - val_accuracy: 0.9600\n",
            "Epoch 38/50\n",
            "10/10 [==============================] - 1s 152ms/step - loss: 0.0579 - accuracy: 0.9828 - val_loss: 0.1114 - val_accuracy: 0.9694\n",
            "Epoch 39/50\n",
            "10/10 [==============================] - 1s 152ms/step - loss: 0.0448 - accuracy: 0.9931 - val_loss: 0.1059 - val_accuracy: 0.9553\n",
            "Epoch 40/50\n",
            "10/10 [==============================] - 1s 151ms/step - loss: 0.0546 - accuracy: 0.9846 - val_loss: 0.1048 - val_accuracy: 0.9576\n",
            "Epoch 41/50\n",
            "10/10 [==============================] - 1s 149ms/step - loss: 0.0445 - accuracy: 0.9949 - val_loss: 0.1064 - val_accuracy: 0.9600\n",
            "Epoch 42/50\n",
            "10/10 [==============================] - 1s 153ms/step - loss: 0.0443 - accuracy: 0.9931 - val_loss: 0.1056 - val_accuracy: 0.9624\n",
            "Epoch 43/50\n",
            "10/10 [==============================] - 1s 149ms/step - loss: 0.0384 - accuracy: 0.9966 - val_loss: 0.1286 - val_accuracy: 0.9600\n",
            "Epoch 44/50\n",
            "10/10 [==============================] - 2s 229ms/step - loss: 0.0418 - accuracy: 0.9931 - val_loss: 0.1135 - val_accuracy: 0.9671\n",
            "Epoch 45/50\n",
            "10/10 [==============================] - 2s 212ms/step - loss: 0.0408 - accuracy: 0.9931 - val_loss: 0.1585 - val_accuracy: 0.9482\n",
            "Epoch 46/50\n",
            "10/10 [==============================] - 2s 196ms/step - loss: 0.0464 - accuracy: 0.9914 - val_loss: 0.1141 - val_accuracy: 0.9671\n",
            "Epoch 47/50\n",
            "10/10 [==============================] - 2s 155ms/step - loss: 0.0422 - accuracy: 0.9931 - val_loss: 0.1113 - val_accuracy: 0.9694\n",
            "Epoch 48/50\n",
            "10/10 [==============================] - 2s 156ms/step - loss: 0.0412 - accuracy: 0.9983 - val_loss: 0.1195 - val_accuracy: 0.9600\n",
            "Epoch 49/50\n",
            "10/10 [==============================] - 1s 150ms/step - loss: 0.0397 - accuracy: 0.9949 - val_loss: 0.1553 - val_accuracy: 0.9459\n",
            "Epoch 50/50\n",
            "10/10 [==============================] - 1s 151ms/step - loss: 0.0510 - accuracy: 0.9914 - val_loss: 0.1035 - val_accuracy: 0.9624\n"
          ]
        }
      ]
    },
    {
      "cell_type": "code",
      "source": [
        "# Check out the layers in our model\n",
        "model_4.summary()   "
      ],
      "metadata": {
        "id": "uFnFzv9Cz6aM",
        "colab": {
          "base_uri": "https://localhost:8080/"
        },
        "outputId": "228ceda0-6a7b-4dc4-a8fb-c42f186af6ec"
      },
      "execution_count": null,
      "outputs": [
        {
          "output_type": "stream",
          "name": "stdout",
          "text": [
            "Model: \"sequential_18\"\n",
            "_________________________________________________________________\n",
            " Layer (type)                Output Shape              Param #   \n",
            "=================================================================\n",
            " conv2d_69 (Conv2D)          (None, 88, 88, 8)         80        \n",
            "                                                                 \n",
            " conv2d_70 (Conv2D)          (None, 86, 86, 8)         584       \n",
            "                                                                 \n",
            " conv2d_71 (Conv2D)          (None, 84, 84, 8)         584       \n",
            "                                                                 \n",
            " flatten_22 (Flatten)        (None, 56448)             0         \n",
            "                                                                 \n",
            " dense_40 (Dense)            (None, 64)                3612736   \n",
            "                                                                 \n",
            " dropout_16 (Dropout)        (None, 64)                0         \n",
            "                                                                 \n",
            " dense_41 (Dense)            (None, 1)                 65        \n",
            "                                                                 \n",
            "=================================================================\n",
            "Total params: 3,614,049\n",
            "Trainable params: 3,614,049\n",
            "Non-trainable params: 0\n",
            "_________________________________________________________________\n"
          ]
        }
      ]
    },
    {
      "cell_type": "code",
      "source": [
        "# Plot the training curves\n",
        "pd.DataFrame(history_4.history).plot(figsize=(10, 7))"
      ],
      "metadata": {
        "colab": {
          "base_uri": "https://localhost:8080/",
          "height": 445
        },
        "id": "Zn00MhBO6YDn",
        "outputId": "7ac7d016-5f8e-4369-d12d-95a11fb2fb0b"
      },
      "execution_count": null,
      "outputs": [
        {
          "output_type": "execute_result",
          "data": {
            "text/plain": [
              "<matplotlib.axes._subplots.AxesSubplot at 0x7f8cf45dfc10>"
            ]
          },
          "metadata": {},
          "execution_count": 112
        },
        {
          "output_type": "display_data",
          "data": {
            "text/plain": [
              "<Figure size 720x504 with 1 Axes>"
            ],
            "image/png": "[encoded data removed]"
          },
          "metadata": {
            "needs_background": "light"
          }
        }
      ]
    },
    {
      "cell_type": "code",
      "source": [
        "# model save function\n",
        "#model_4.save(\"/content/drive/MyDrive/logo_model_9.h5\") "
      ],
      "metadata": {
        "id": "FaMoq5l0KWMj"
      },
      "execution_count": null,
      "outputs": []
    },
    {
      "cell_type": "code",
      "source": [
        "# model load function\n",
        "model_4 = keras.models.load_model(\"/content/drive/MyDrive/logo_model_9.h5\")"
      ],
      "metadata": {
        "id": "cr30EHvUHKFh"
      },
      "execution_count": null,
      "outputs": []
    },
    {
      "cell_type": "markdown",
      "source": [
        "# Prediction"
      ],
      "metadata": {
        "id": "zkysBqyvj_4s"
      }
    },
    {
      "cell_type": "code",
      "source": [
        "# load and pre-processing test image's function\n",
        "def load_and_prep_image(filename, img_shape=90):\n",
        "  \"\"\"\n",
        "  Reads an image from filename, turns it into a tensor\n",
        "  and reshapes it to (img_shape, img_shape, colour_channel).\n",
        "  \"\"\"\n",
        "  # Read in target file (an image)\n",
        "  img = tf.io.read_file(filename)\n",
        "\n",
        "  # Decode the read file into a tensor & ensure 1 colour channels \n",
        "  img = tf.image.decode_image(img, channels=1)\n",
        "\n",
        "  # Resize the image (to the same size our model was trained on)\n",
        "  img = tf.image.resize(img, size = [img_shape, img_shape])\n",
        "\n",
        "  # Rescale the image (get all values between 0 and 1)\n",
        "  img = img/255.\n",
        "  return img"
      ],
      "metadata": {
        "id": "7RfL2S5ZYKdj"
      },
      "execution_count": null,
      "outputs": []
    },
    {
      "cell_type": "code",
      "source": [
        "# load prediction image's path\n",
        "logo = load_and_prep_image(\"/content/drive/MyDrive/logo_yeni/test/logolu/4L_logolu_2372.jpg\")\n"
      ],
      "metadata": {
        "id": "AutHSuY3YKmw"
      },
      "execution_count": null,
      "outputs": []
    },
    {
      "cell_type": "code",
      "source": [
        "# fix shape dimension\n",
        "print(f\"Shape before new dimension: {logo.shape}\")\n",
        "logo = tf.expand_dims(logo, axis=0) \n",
        "print(f\"Shape after new dimension: {logo.shape}\")"
      ],
      "metadata": {
        "colab": {
          "base_uri": "https://localhost:8080/"
        },
        "id": "K6dEC5uRYKto",
        "outputId": "2738eb9c-51f0-44d6-921a-a2480d446f78"
      },
      "execution_count": null,
      "outputs": [
        {
          "output_type": "stream",
          "name": "stdout",
          "text": [
            "Shape before new dimension: (90, 90, 1)\n",
            "Shape after new dimension: (1, 90, 90, 1)\n"
          ]
        }
      ]
    },
    {
      "cell_type": "code",
      "source": [
        "data_dir = pathlib.Path(\"/content/drive/MyDrive/logo_yeni/test\") # turn our training path into a Python path\n",
        "class_names = np.array(sorted([item.name for item in data_dir.glob('*')])) # created a list of class_names from the subdirectories"
      ],
      "metadata": {
        "id": "ovIz46aiUmvi"
      },
      "execution_count": null,
      "outputs": []
    },
    {
      "cell_type": "code",
      "source": [
        "# model predict\n",
        "pred = model_4.predict(logo)\n",
        "print(pred[0][0])\n",
        "pred_class = class_names[int(tf.round(pred)[0][0])]\n",
        "print(\"sonuc:\", pred_class)"
      ],
      "metadata": {
        "colab": {
          "base_uri": "https://localhost:8080/"
        },
        "id": "ll4Rq5jJYK0_",
        "outputId": "0d292424-60f2-4d1a-fcff-ad37306c72a3"
      },
      "execution_count": null,
      "outputs": [
        {
          "output_type": "stream",
          "name": "stdout",
          "text": [
            "1/1 [==============================] - 0s 25ms/step\n",
            "0.8082245\n",
            "sonuc: logosuz\n"
          ]
        }
      ]
    },
    {
      "cell_type": "code",
      "source": [
        "# result prediction\n",
        "result = tf.round(pred) \n",
        "result "
      ],
      "metadata": {
        "id": "a4w0vuv-T1Zt"
      },
      "execution_count": null,
      "outputs": []
    },
    {
      "cell_type": "code",
      "source": [
        "# predict all images\n",
        "test_path = \"/content/drive/MyDrive/logo_yeni/test/logolu\"\n",
        "test_imgs = [(cv2.imread(os.path.join(test_path,f)),f) for f in os.listdir(test_path)]\n",
        "count = 0\n",
        "\n",
        "for ref_img, f in test_imgs:\n",
        "    logo = load_and_prep_image(test_path + \"/\" + f)\n",
        "    logo = tf.expand_dims(logo, axis=0)\n",
        "    pred = model_4.predict(logo)\n",
        "\n",
        "    if pred_class != \"logolu\":\n",
        "      print(\"failed prediction:\", f, \"score\", round(pred[0][0], 2), pred_class)\n",
        "      count += 1\n",
        "\n",
        "print(\"total:\", len(test_imgs))\n",
        "print(\"failed:\", count)\n"
      ],
      "metadata": {
        "id": "S1VP9MgHYMR5"
      },
      "execution_count": null,
      "outputs": []
    }
  ]
}